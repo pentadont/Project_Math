{
 "cells": [
  {
   "cell_type": "code",
   "execution_count": 1,
   "id": "0a18df26-95f5-4700-a976-b898fb18fa01",
   "metadata": {},
   "outputs": [],
   "source": [
    "%matplotlib inline"
   ]
  },
  {
   "cell_type": "code",
   "execution_count": 2,
   "id": "b2e098a6-3f88-4481-914f-defde2ed4e51",
   "metadata": {},
   "outputs": [],
   "source": [
    "import math\n",
    "#import numpy\n",
    "import numpy as np\n",
    "import matplotlib.pyplot as plt\n",
    "#import os\n",
    "from scipy import integrate, linalg"
   ]
  },
  {
   "cell_type": "markdown",
   "id": "c2d2ab8b-375d-49ca-9441-441744c893a6",
   "metadata": {},
   "source": [
    "# Aerodynamics of Airfoil and simplified metods to calculate forces and moments."
   ]
  },
  {
   "cell_type": "markdown",
   "id": "b785acfa-0b95-4362-986c-da94198c5a4a",
   "metadata": {
    "tags": []
   },
   "source": [
    "## FUNDAMENTAL AERODYNAMIC VARIABLES\n",
    "We can't continue forward  without clearly stating the four fundamental physical variables: *pressure, density, temperature, and flow velocity.*\n",
    "\n",
    "Consider a surface immersed in a fluid and the molecules of the fluid are constantly in motion. Pressure is the normal force per unit area exerted on a surface due to the time rate of change of momentum of the gas molecules impacting on (or crossing) that surface. It is important to note that even though pressure is defined as force “per unit area,” you do not need a surface that has a scalar value to talk about pressure. In fact, pressure is usually defined at a point in the fluid or a point on a solid surface and can vary from one point to another. To see this more clearly, consider a point\n",
    "B in a volume of fluid. Let \n",
    "<center>$dA = $ elemental area at $B$</center>\n",
    "<center>$dF = $ force on one side of $dA$ due to pressure</center>\n",
    "Then, the pressure at point B in the fluid is defined as\n",
    "\n",
    "$$ p = \\lim_{dA\\to 0} \\frac{(dF)}{(dA)} $$\n",
    "\n",
    "The pressure $p$ is the limiting form of the force per unit area, where the area of interest has shrunk to nearly zero at the point B (*Note: $dA$ can never achieve the limit of zero, because there would be no molecules at point $B$ in that case. The above limit should be interpreted as $dA$ approaching a very small value, near zero, but sufficiently larger than the average spacing between molecules).* Clearly, you can see that pressure is a point property and can have a different value from one point to another in the fluid.\n",
    "\n",
    "Density is defined as the mass per unit volume. Analogous to our discussion on pressure, the definition of density\n",
    "does not require an actual volume. Rather, it is a point property that can vary from point to point in the fluid. Again, consider a point B in the fluid. Let\n",
    "<center>$dv = $ elemental volume around $B$</center>\n",
    "<center>$dm = $ mass of fluid inside $dv$</center>\n",
    "Then, the density at point $B$ is\n",
    "\n",
    "$$ \\rho = \\lim_{dv\\to 0} \\frac{(dm)}{(dv)} $$\n",
    "\n",
    "Therefore, the density $\\rho$ is the limiting form of the mass per unit volume, where the volume of interest has shrunk to nearly zero around point B. (*Note: $dv$ cannot achieve the value of zero for the reason discussed above concerning $dA$ in the definition of pressure).*\n",
    "\n",
    "Temperature takes on an important role in high-speed aerodynamics. Although, in high speed, the analysis becomes exponentialy dificult, and is outside of our scope, we need to state same basics.\n",
    "The temperature $T$ of a gas can be expressed using Kinetic theory approach (wikipedia).\n",
    "The magnitude of the kelvin is now defined in terms of kinetic theory, derived from the value of the Boltzmann constant.\n",
    "Each classical degree of freedom of a freely moving particle has an average kinetic energy of $\\frac{{k_B}T}{2}$ where $k_B$ denotes the Boltzmann constant. The translational motion of the particle has three degrees of freedom, so that, the average translational kinetic energy of a freely moving particle in a system with temperature $T$ will be $\\frac{3{k_B}T}{2}$.\n",
    "\n",
    "A fluid is not solid, so while in motion, one part of the fluid may be traveling at a different velocity from another part. Hence, we have to adopt a certain perspective, as follows. Consider the flow of air over an airfoil. Flow velocity is a vector field used to mathematically describe the motion of a continuum. The flow velocity $V$ has both magnitude and direction; hence, it is a vector quantity. This is in contrast to $p$, $\\rho$, and $T$, which are scalar variables. The scalar magnitude of $\\vec{V}$ is frequently used and is denoted by $V$. Again, we emphasize that velocity is a point property and can vary from point to point in the flow.\n",
    "\n",
    "A moving fluid element traces out a fixed path in space. As long as the flow is steady (i.e., as long as it does not fluctuate with time), this path is called a streamline of the flow (see fig.1). Drawing the streamlines of the flow field is an important way of visualizing the motion of the gas.\n",
    "\n",
    "\n",
    "<img src=\"Image/Inviscid_flow_around_a_cylinder.gif\" width=\"400\" /> \n",
    "\n",
    "Figure 1. *The color indicates pressure. Dark blue means high pressure.*\n",
    "\n",
    "Friction acts internally in a flow. Consider two adjacent streamlines $a$ and $b$ as sketched in fig. 2 The streamlines are an infinitesimal distance, $dy$, apart. At point 1 on streamline $b$, the flow velocity is $V$; at point 2 on streamline $a$, the flow velocity is slightly higher, $V + dV$. You can imagine that streamline $a$ is rubbing against streamline $b$ and, due to friction, exerts a force of magnitude $dF_f$ on streamline $b$ acting tangentially toward the right. Furthermore, imagine this force acting on an elemental area $dA$, where $dA$ is perpendicular to the $y$ axis and tangent to the streamline $b$ at point 1. The local shear stress, $\\tau$, at point 1 is $$\\tau = \\lim_{dA\\to 0} \\frac{(dF_f)}{(dA)}$$\n",
    "The shear stress $\\tau$ is the limiting form of the magnitude of the frictional force per unit area, where the area of interest is perpendicular to the $y$ axis and has shrunk to nearly zero at point 1.\n",
    "\n",
    "<img src=\"Image/fig2.png\" width=\"400\" />\n",
    "\n",
    "Figure 2. *Generation of frictional force due to a velocity gradient in a flow*\n",
    "\n",
    "Shear stress acts tangentially along the streamline and the value of the shear stress at a point on a streamline is proportional to the spatial rate of change of velocity normal to the streamline at that point (i.e., for the flow illustrated in Fig. 2, $\\tau \\propto \\frac {dV}{dy}$. The constant of proportionality is defined\n",
    "as the viscosity coefficient, $\\mu$. Hence,\n",
    "$$\\tau = \\mu\\frac{dv}{dy}$$\n",
    "where $\\frac{dV}{dy}$ is the velocity gradient. In reality, $\\mu$ is not really a constant; it is a function of the temperature of the fluid. From the above equation, we deduce that in regions of a flow field where the velocity gradients are small, $\\tau$ is small and the influence of friction locally in the flow is small. On the other hand, in regions where the velocity gradients are large, $\\tau$ is large and the influence of friction locally in the flow can be substantial.\n",
    "\n",
    "## The aerodynamic forces and moments on the body are due to only two basic sources:\n",
    "\n",
    "1. Pressure distribution over the body surface\n",
    "2. Shear stress distribution over the body surface\n",
    "\n",
    "The only mechanisms nature has for communicating a force to a body moving through a fluid are pressure and shear stress distributions on the body surface. Both pressure $p$ and shear stress $\\tau$ have dimensions of force per unit area. As sketched in Figure 3, $p$ acts normal to the surface, and $\\tau$ acts tangential to the surface. Shear stress is due to the friction between the body and the air.\n",
    "\n",
    "<img src=\"Image/fig.3.png\" width=\"400\" />\n",
    "\n",
    "Figure 3. *Illustration of pressure and shear stress on an aerodynamic surface.*\n",
    "\n",
    "The net effect of the $p$ and $\\tau$ distributions integrated over the complete body surface is a resultant aerodynamic force $\\vec{R}$ and moment $M$ on the body. In turn, the resultant $\\vec{R}$ can be split into components as shown in Figure 4. $V_{\\infty}$ is the relative wind, defined as the flow velocity far ahead of the body. The flow far away from the body is called the **freestream**, and hence $V_{\\infty}$ is also called the freestream velocity. In Figure 4, by definition,\n",
    "\n",
    "$$\\textrm{Lift}(L) \\equiv \\textrm{ component of } R  \\textrm{ perpendicular to } V_\\infty$$\n",
    "\n",
    "$$\\textrm{Drag}(D) \\equiv \\textrm{ component of } R  \\textrm{ parallel to } V_\\infty$$\n",
    "\n",
    "<img src=\"Image/fig.4.png\" width=\"400\" />\n",
    "\n",
    "Figure 4. *Resultant aerodynamic force and the components into which it splits.*\n",
    "\n",
    "The chord $c$ is the linear distance from the leading edge to the trailing edge of the body. Sometimes, $\\vec{R}$ is split into components perpendicular and parallel to the chord, as also shown in Figure 4. By definition,\n",
    "\n",
    "$$N \\equiv \\textrm{ normal force } \\equiv \\textrm{ component of }R  \\textrm{ perpendicular to } c$$\n",
    "\n",
    "$$A \\equiv \\textrm{ axial force } \\equiv \\textrm{ component of }R  \\textrm{ parallel to } c$$\n",
    "\n",
    "The angle of attack $\\alpha$ is defined as the angle between $c$ and $V_{\\infty}$. Hence, $\\alpha$ is also the angle between $L$ and $N$ and between $D$ and $A$.\n",
    "\n",
    "$$L = N\\cos{\\alpha} - A\\sin{\\alpha}\\tag{1}$$\n",
    "$$D = N\\sin{\\alpha} + A\\cos{\\alpha}\\tag{2}$$\n",
    "\n",
    "Let us examine in more detail the integration of the pressure and shear stress distributions to obtain the aerodynamic forces and moments. Consider the two-dimensional body sketched in Figure 5. The chord line is drawn horizontally, and hence the relative wind is inclined relative to the horizontal by the angle of attack $\\alpha$.\n",
    "\n",
    "<img src=\"Image/fig.5.png\" width=\"400\" /> \n",
    "\n",
    "Figure 5. *Integration of pressure and shear stress distributions over a two-dimensional body surface.*\n",
    "\n",
    "An $xy$ coordinate system is oriented parallel and perpendicular, respectively, to the chord. The distance from the leading edge measured along the body surface to an arbitrary point A on the upper surface is $s_u$; similarly, the distance to an arbitrary point $B$ on the lower surface is $s_l$. The pressure and shear stress on the upper surface are denoted by $p_u$ and $\\tau_u$, both $p_u$ and $\\tau_u$ are functions of $s_u$. Similarly, $p_l$ and  $\\tau_l$ are the corresponding quantities on the lower surface and are functions of $s_l$. At a given point, the pressure is normal to the surface and\n",
    "is oriented at an angle $\\theta$ relative to the perpendicular; shear stress is tangential to the surface and is oriented at the same angle $\\theta$ relative to the horizontal. In Figure 5, the sign convention for $\\theta$ is positive when measured clockwise from the vertical line to the direction of $p$ and from the horizontal line to the direction of $\\tau$. In Figure 5, all thetas are shown in their positive direction. Now consider the two-dimensional shape in Figure 5 as a cross section of an infinitely long cylinder of uniform section. A unit span of such a cylinder is shown in Figure 6. Consider an elemental surface area $dS$ of this cylinder, we are interested in the contribution to the total normal force $N'$ and the total axial force $A'$ due to the pressure and shear stress on the elemental area $dS$. \n",
    "\n",
    "<img src=\"Image/fig.6.png\" width=\"400\" /> \n",
    "\n",
    "Figure 6. *Aerodynamic force on an element of the body surface*\n",
    "\n",
    "The primes on $N'$ and $A'$ denote force per unit span. Examining both Figures 5 and 6, we see that the elemental normal and axial forces acting on the elemental surface $dS$ on the upper body surface are\n",
    "\n",
    "$$dN'_u = -p_uds_u\\cos{\\theta} - \\tau_uds_u\\sin{\\theta}\\tag{3}$$\n",
    "$$dA'_u = -p_uds_u\\sin{\\theta} + \\tau_uds_u\\cos{\\theta}\\tag{4}$$\n",
    "\n",
    "On the lower body surface, we have\n",
    "$$dN'_l = p_lds_l\\cos{\\theta} - \\tau_lds_l\\sin{\\theta}\\tag{5}$$\n",
    "$$dA'_l = p_lds_l\\sin{\\theta} + \\tau_lds_l\\cos{\\theta}\\tag{6}$$\n",
    "\n",
    "In Equations shown above the positive directions of $N'$ and $A'$ are those shown in Figure 4. In these equations, the positive clockwise convention for $\\theta$ must be followed. For example, consider again Figure 5. Near the leading edge of the body, where the slope of the upper body surface is positive, $\\tau$ is inclined upward, and hence it gives a positive contribution to $N'$. For an upward inclined $\\tau$, $\\theta$ would be counterclockwise, hence negative. Therefore, $\\sin{\\theta}$ would be negative, making the shear stress term (the last term) a positive value, as it should be in this instance. Hence, the above equations hold in general (for both the forward and rearward portions of the body) as long as the above sign convention for $\\theta$ is consistently applied. The total normal and axial forces per unit span are obtained by integrating the equations from the leading edge (LE) to the trailing edge (TE):\n",
    "\n",
    "$$N' = -\\int_{TE}^{LE} (p_u \\cos{\\theta} + \\tau_u \\sin{\\theta}) ds_u + \\int_{TE}^{LE} (p_l \\cos{\\theta} - \\tau_l \\sin{\\theta}) ds_l \\tag{7}$$\n",
    "\n",
    "$$A' = \\int_{TE}^{LE} (-p_u \\sin{\\theta} + \\tau_u \\cos{\\theta}) ds_u + \\int_{TE}^{LE} (p_l \\sin{\\theta} + \\tau_l \\cos{\\theta}) ds_l \\tag{8}$$\n",
    "\n",
    "In turn, the total lift and drag per unit span can be obtained by inserting Equations (7) and (8) into (1) and (2); note that Equations (1) and (2) hold\n",
    "for forces on an arbitrarily shaped body (unprimed) and for the forces per unit span (primed).\n",
    "The aerodynamic moment exerted on the body depends on the point about which moments are taken. Consider moments taken about the leading edge. By convention, moments that tend to increase $\\alpha$ (pitch up) are positive, and moments that tend to decrease $\\alpha$ (pitch down) are negative. The moment per unit span about the leading edge due to $p$ and $\\tau$ on the elemental area $dS$ on the upper surface is\n",
    "\n",
    "$$dM'_{u} = (p_{u} \\cos \\theta + \\tau_{u} \\sin \\theta) x\\, ds_{u} - (p_{u} \\sin \\theta - \\tau_{u} \\cos \\theta) y\\, ds_{u} \\tag{9}$$\n",
    "\n",
    "On the bottom surface,\n",
    "\n",
    "$$dM'_{l} = (- p_{l} \\cos \\theta + \\tau_{l} \\sin \\theta) x\\, ds_{l} + (p_{l} \\sin \\theta + \\tau_{l} \\cos \\theta) y\\, ds_{l} \\tag{10}$$\n",
    "\n",
    "In Equations (9) and (10), note that the same sign convention for $\\theta$ applies as before and that $y$ is a positive number above the chord and a negative number below the chord. Integrating Equations (9) and (10) from the leading to the trailing edges, we obtain for the moment about the leading edge per unit span\n",
    "\n",
    "$$M'_{LE} = \\int_{TE}^{LE} \\left[(p_{u} \\cos \\theta + \\tau_{u} \\sin \\theta)x - (p_{u} \\sin \\theta - \\tau_{u} \\cos \\theta)y \\right] ds_{u} + \\int_{TE}^{LE} \\left[(-p_{l} \\cos \\theta + \\tau_{l} \\sin \\theta)x + (p_{l} \\sin \\theta + \\tau_{l} \\cos \\theta)y \\right] ds_{l} \\tag{11}$$\n",
    "\n",
    "In Equations (7), (8), and (11), $\\theta$, $x$, and $y$ are known functions of $s$ for a given body shape. Hence, if $p_u$, $p_l$, $\\tau_u$, and $\\tau_l$ are known as functions of\n",
    "$s$ (from theory or experiment), the integrals in these equations can be evaluated. Clearly, Equations (7), (8), and (11) demonstrate the principle stated earlier, namely, the sources of the aerodynamic lift, drag, and moments on a body are the pressure and shear stress distributions integrated over the body. A major goal of theoretical aerodynamics is to calculate $p(s)$ and $\\tau(s)$ for a given body shape and freestream conditions, thus yielding the aerodynamic forces and moments via Equations (7), (8), and (11).\n",
    "\n",
    "A bilding stone for the aerodynamic are the dimensionless force and moment coefficients. Let $\\rho_\\infty$ and $V_\\infty$ be the density and velocity, respectively, in the freestream, far ahead of the body. We define a dimensional quantity called the freestream dynamic pressure as\n",
    "\n",
    "Dynamic pressure: $$q_{\\infty} {\\equiv} {\\frac{1}{2}}{\\rho_\\infty}{V_\\infty^2}$$\n",
    "\n",
    "The dynamic pressure has the units of pressure - newtons per square meter. In addition, let $S$ be a reference area and $l$ be a reference length. The dimensionless force and moment coefficients are defined as follows:\n",
    "\n",
    "Lift coefficient: $${C_L} {\\equiv} {\\frac{L}{q_{\\infty}S}}$$\n",
    "Drag coefficient: $${C_D} {\\equiv} {\\frac{D}{q_{\\infty}S}}$$\n",
    "Normal force coefficient: $${C_N} {\\equiv} {\\frac{N}{q_{\\infty}S}}$$\n",
    "Axial force coefficient: $${C_A} {\\equiv} {\\frac{A}{q_{\\infty}S}}$$\n",
    "Momentl coefficient: $${C_M} {\\equiv} {\\frac{M}{q_{\\infty}S{l}}}$$\n",
    "\n",
    "*Note: The force and moment coefficients above denote for a complete three-dimensional body*\n",
    "\n",
    "Pressure coefficient: $${C_p} {\\equiv} {\\frac{p - p_\\infty}{q_\\infty}}$$\n",
    "\n",
    "Skin friction coefficient: $${c_f } {\\equiv } {\\frac{\\tau}{q_\\infty}}$$\n",
    "\n",
    "## CENTER OF PRESSURE\n",
    "From Equations (7) and (8), we see that the normal and axial forces on the body are due to the distributed loads imposed by the pressure and shear stress distributions. Moreover, these distributed loads generate a moment about the leading edge, as given by Equation (11). \n",
    "\n",
    "<img src=\"Image/fig.7.png\" width=\"400\" /> \n",
    "\n",
    "Figure 7. *Center of pressure for an airfoil.*\n",
    "\n",
    "The acting point of this force should be located on the body such that it produces the same effect as the distributed loads. For example, the distributed load on a two-dimensional body such as an airfoil produces a moment about the leading edge given by Equation (11); therefore, $N'$ and $A'$ must be placed on the airfoil at such a location to generate the same moment about the leading edge. If $A'$ is placed on the chord\n",
    "line as shown in Figure 7, then $N'$ must be located at a distance $x_{cp}$ downstream of the leading edge such that\n",
    "\n",
    "$$M'_{LE} = -(x_{cp})N'$$\n",
    "\n",
    "$$x_{cp} = \\frac{M'_{LE}}{N'}$$\n",
    "\n",
    "If moments were taken about the center of pressure, the integrated effect of the distributed loads would be zero. Hence, an alternate definition of the center of pressure is that point on the body about which the aerodynamic moment is zero.\n"
   ]
  },
  {
   "cell_type": "markdown",
   "id": "967df4e3-fb74-4201-bda1-1bb4a3cb9add",
   "metadata": {},
   "source": [
    "### Methods to calculate aerodynamic data\n",
    "\n",
    "#### Example of an Empirical method\n",
    "\n",
    "Assumptions: *Symmetrical airfoil at $\\alpha = 0^{\\circ}$ in an incompressable 2D flow*\n",
    "\n",
    "To find total normal and axial forces per unit span, we need some prerequisites.\n",
    "\n",
    "First, for simplification, we are going to use the equation for skin friction coefficient on a flat plate.\n",
    "\n",
    "$$C_f = \\frac{1.328}{\\sqrt{Re_c}}$$\n",
    "\n",
    "where $Re_{c}$ is the Reynolds number based on  total plate length $c$, defined as:\n",
    "\n",
    "$$Re_c = \\frac{\\rho U_\\infty c}{\\mu}$$\n",
    "\n",
    "where $\\rho$ is the density of air, $U_{\\infty}$ is the free-stream velocity, and $\\mu$ is the dynamic viscosity of air. When we have the skin friction coefficient, easily compute shear stress:\n",
    "\n",
    "$$\\tau = C_f\\frac{1}{2}{\\rho}U_\\infty^2$$\n",
    "\n",
    "Let's make another assumption. The pressures on the upper and lower surfaces of the airfoil are constant with distance $s$ and equal to each other, namely, $p_u = p_l = {1.31}*{10^5} N/m^2$. Although this assumption is an oversimplification, it is often used in preliminary analysis of symmetrical airfoils with zero angle of attack, since the pressure on the upper and lower surfaces will cancel each other out, resulting in no net lift.\n",
    "\n",
    "Although, if we substitute in equations (7), (8) and (11) we can find numerical solution, the answer will be far from useful. To get a meaningful solution is much better to have experimental data for a given airfoil, and from there on to calculate aerodynamic forces and moments. Example is given in fig. 8.\n",
    "\n",
    "<img src=\"Image/fig.8.png\" width=\"400\" /> <img src=\"Image/fig.9.png\" width=\"400\" /> \n",
    "\n",
    "Figure 8 and 9. *Experimental data for profile drag and lift coefficients, and\n",
    "moment coefficient about the aerodynamic center for the NACA\n",
    "2412 airfoil. (Source: Data obtained from Abbott, I. H., and A. E. von\n",
    "Doenhoff: Theory of Wing Sections, McGraw Hill Book Company,\n",
    "New York, 1949; also, Dover Publications, Inc., New York, 1959.)*"
   ]
  },
  {
   "cell_type": "markdown",
   "id": "f8b6cad9-f7d4-49ce-9edc-8148fbd8b3bd",
   "metadata": {},
   "source": [
    "#### Wind tunnel testing\n",
    "##### Several approaches are available (infomation from NASA)\n",
    "1. The aerodynamic forces and moments on the model are measured directly. The model is mounted in the tunnel on a special machine called a force balance. The output from the balance is a signal that is related to the forces and moments on the model. Balances can be used to measure both the lift and drag forces. The balance must be calibrated against a known value of the force before, and sometimes during, the test. Force measurements usually require some data reduction or post-test processing to account for Reynolds number or Mach number effects on the model during testing. It is very important in data reports to always specify the reference value of variables used in data reduction.\n",
    "\n",
    "2. The model is instrumented with pressure taps and the component performance is calculated from the pressure data. Total pressure measurement is the normal procedure for determining aircraft inlet performance. Theoretically, the aerodynamic force on an aircraft model could be obtained using pressure instrumentation by integrating the pressure times an incremental area around the entire surface of the model. But, in practice, pressure integration is not used because of the large number of taps necessary to accurately resolve pressure variations. Airfoil drag can be determined by integrating the total pressure deficit in the wake created by a wing model.\n",
    "\n",
    "3. The model is instrumented to provide diagnostic information about the flow of air around the model. Diagnostic instrumentation includes static pressure taps, total pressure rakes, laser Doppler velocimetry, and hot-wire velocity probes. A diagnostic test does not provide overall aircraft performance, but helps the engineer to better understand how the fluid moves around and through the model. There are a variety of flow control devices that are employed to improve performance of the aircraft, if the local flow conditions are known. Depending on the type of instrumentation used in the experiment, steady state flow or unsteady, time-varying, flow information can be obtained. The engineer must use some experience when employing flow diagnostic instrumentation to properly place the instruments in regions of flow gradients or separations.\n",
    "\n",
    "4. Flow visualization techniques are used to provide diagnostic information. Visualizaation techniques include free stream smoke, laser sheet, or surface oil flow. The assumption is made that the flow visualization medium moves exactly with the flow. Shadowgraphs or schlierin systems are used to visualize the shape and location of shock waves in compressible flows. For low speed flows, tufts or surface oil indicate the flow direction along the surface of a model.\n",
    "\n",
    "You can investigate some wind tunnel testing techniques by using our interactive tunnel testing [applet](https://www.grc.nasa.gov/www/k-12/airplane/tunwtest.html)\n"
   ]
  },
  {
   "cell_type": "markdown",
   "id": "7cfb2196-a00e-4031-9a74-dadde2ba68b6",
   "metadata": {},
   "source": [
    "#### Computational fluid dynamics (CFD): \n",
    "CFD simulations involve solving the Navier-Stokes equations to simulate the flow around an airfoil. This approach provides a detailed understanding of the flow field and can capture complex phenomena such as flow separation, but can be computationally expensive *(to be done in the future)*."
   ]
  },
  {
   "cell_type": "markdown",
   "id": "9dc7ae56-36b0-46c6-adb6-a5151bb0a31f",
   "metadata": {
    "tags": []
   },
   "source": [
    "#### Theoretical methods (one of the simplest is the vortex panel method)\n",
    "\n",
    "A Panel method is used to calculate the velocity distribution along the surface of the airfoil. Panel methods have been developed to analyze the flow field around arbitrary bodies in two and three dimensions.\n",
    "\n",
    "The geometry of the airfoil is divided into straight, individual panels. Mathematically, each panel induces a (yet unknown) velocity on itself and also on the remaining panels. This velocity can be expressed by relatively simple equations, which contain geometric relations like distances and angles between the panels only. All these influences are collected in a matrix and, additionally, a flow condition is defined on the surface, which must be satisfied by the induced velocities. This boundary condition is the requirement, that the flow does not pass through the airfoil, but flows tangential along the surface. Together with the onset flow direction, a system of linear equations can be composed and solved for the unknown panel velocities.\n",
    "\n",
    "The panel method can theoretically calculate the flow around any airfoil, using exactly the given coordinates, but some problems may occur. To resolve the flow properties in curved regions, enough panels must be used. You should use between 50 and 100 coordinate points, distributed more dense in the leading and trailing edge regions, where the velocity changes rapidly. Very thin airfoils or pointed trailing edges can create numerical difficulties and, the method has no implicit smoothing property. This means, that a small deviation of a coordinate from the smooth airfoil shape will result in a wiggle in the resulting velocity distribution. While this is good for smoothing airfoils, it is bad for the subsequent boundary layer analysis. As in real life, wiggles cause premature transition and increased drag. Thus it does not make sense to use the panel method for the analysis of an airfoil with a very wavy surface.\n",
    "\n",
    "##### The Kutta condition\n",
    "The *Kutta-condition* states that the pressure below and above the airfoil trailing edge must be equal so that the flow does not bend around it and instead leaves the airfoil tangentially. The rear stagnation point must be exactly at the trailing edge.\n",
    "\n",
    "To implement the Kutta-condition in our panel method we need to add one more equation to the system, giving the circulation that moves the stagnation point to the trailing edge. By placing a vortex-sheet with the same constant strength at every panel, we can add the circulation to the flow with just one more unknown.\n",
    "\n",
    "##### Importing geometry and discretization into panels\n",
    "\n",
    "The easiest way is to import geometry coordinates. For the computations and date plotting a NACA0012 airfoil will be used."
   ]
  },
  {
   "cell_type": "code",
   "execution_count": 3,
   "id": "6d0033ec-a4c0-4685-8c63-2c05a0662ed8",
   "metadata": {},
   "outputs": [
    {
     "data": {
      "text/plain": [
       "<function matplotlib.pyplot.show(close=None, block=None)>"
      ]
     },
     "execution_count": 3,
     "metadata": {},
     "output_type": "execute_result"
    },
    {
     "data": {
      "image/png": "[encoded data removed]",
      "text/plain": [
       "<Figure size 1000x1000 with 1 Axes>"
      ]
     },
     "metadata": {},
     "output_type": "display_data"
    }
   ],
   "source": [
    "# Geometry and forces visualization\n",
    "\n",
    "L = 0.8\n",
    "\n",
    "# Define the x and y coordinates of the NACA0012 airfoil\n",
    "x, y = np.loadtxt('NACA0012.txt', delimiter='\\t', unpack=True)\n",
    "xc, yc = np.loadtxt('chord.txt', delimiter='\\t', unpack=True)\n",
    "chord_cordinates = [0.25, 0]\n",
    "\n",
    "# plot geometry\n",
    "width = 10\n",
    "plt.figure(figsize=(width, width))\n",
    "plt.grid()\n",
    "plt.xlabel('x', fontsize=16)\n",
    "plt.ylabel('y', fontsize=16)\n",
    "plt.plot(x, y, color='k', linestyle='-', linewidth=2)\n",
    "plt.plot(xc, yc, color='black', linestyle='-', linewidth=2)\n",
    "plt.scatter(chord_cordinates[0], chord_cordinates[1], color='red', marker='o', s=50)\n",
    "plt.axis('scaled')\n",
    "plt.xlim(-0.1, 1.1)\n",
    "plt.ylim(-0.1, L)\n",
    "\n",
    "#Define lift vector\n",
    "vectors = [[chord_cordinates[0], chord_cordinates[1], chord_cordinates[0], (L-0.2)], [chord_cordinates[0], chord_cordinates[1], (L-0.2), 0]]\n",
    "vectors = np.array(vectors)\n",
    "U = vectors[:, 2] - vectors[:, 0]\n",
    "V = vectors[:, 3] - vectors[:, 1]\n",
    "plt.quiver(vectors[:, 0], vectors[:, 1], U, V, angles='xy', scale_units='xy', scale=1, color = \"red\", label= \"Lift force\")\n",
    "#plt.quiver(vectors[:, 0], vectors[:, 1], U, V, angles='xy', scale_units='xy', scale=1, color = colors, label= labels)\n",
    "plt.legend()\n",
    "plt.show"
   ]
  },
  {
   "cell_type": "markdown",
   "id": "bb330b24-202f-4277-9b85-8637394182e3",
   "metadata": {},
   "source": [
    "##### Center of Pressure\n",
    "At each value of the lift coefficient there will be one particular point about which the pitching moment coefficient is zero, and the aerodynamic effects on the airfoil section may be represented by the lift and the drag alone acting at that point. This special point is termed the center of pressure.\n",
    "We know that for a symmetric airfoil, as angle of attack and lift coefficient change, the center of pressure does not move. It remains around the quarter-chord point for angles of attack below the stalling angle of attack.(red dot)"
   ]
  },
  {
   "cell_type": "markdown",
   "id": "210cf8d9-f68b-45bf-a41c-1aa2a5c735c5",
   "metadata": {},
   "source": [
    "The contour defining the airfoil will be partitioned into N-numbers of panels"
   ]
  },
  {
   "cell_type": "code",
   "execution_count": 4,
   "id": "fc1ca16e-1c64-47b0-8fbc-be9ace4bd973",
   "metadata": {},
   "outputs": [],
   "source": [
    "class Panel:\n",
    "    \"\"\"\n",
    "    Contains information related to a panel.\n",
    "    \"\"\"\n",
    "    def __init__(self, xa, ya, xb, yb):\n",
    "        \"\"\"\n",
    "        Initializes the panel.\n",
    "        \n",
    "        Sets the end-points and calculates the center-point, length,\n",
    "        and angle (with the x-axis) of the panel.\n",
    "        Defines if the panel is located on the upper or lower surface of the geometry.\n",
    "        Initializes the source-strength, tangential velocity, and pressure coefficient\n",
    "        of the panel to zero.\n",
    "        \n",
    "        Parameters\n",
    "        ---------_\n",
    "        xa: float\n",
    "            x-coordinate of the first end-point.\n",
    "        ya: float\n",
    "            y-coordinate of the first end-point.\n",
    "        xb: float\n",
    "            x-coordinate of the second end-point.\n",
    "        yb: float\n",
    "            y-coordinate of the second end-point.\n",
    "        \"\"\"\n",
    "        self.xa, self.ya = xa, ya  # panel starting-point\n",
    "        self.xb, self.yb = xb, yb  # panel ending-point\n",
    "        \n",
    "        self.xc, self.yc = (xa + xb) / 2, (ya + yb) / 2  # panel center\n",
    "        self.length = np.sqrt((xb - xa)**2 + (yb - ya)**2)  # panel length\n",
    "        \n",
    "        # orientation of panel (angle between x-axis and panel's normal)\n",
    "        if xb - xa <= 0.0:\n",
    "            self.beta = np.arccos((yb - ya) / self.length)\n",
    "        elif xb - xa > 0.0:\n",
    "            self.beta = np.pi + np.arccos(-(yb - ya) / self.length)\n",
    "        \n",
    "        # panel location\n",
    "        if self.beta <= np.pi:\n",
    "            self.loc = 'upper'  # upper surface\n",
    "        else:\n",
    "            self.loc = 'lower'  # lower surface\n",
    "        \n",
    "        self.sigma = 0.0  # source strength\n",
    "        self.vt = 0.0  # tangential velocity\n",
    "        self.cp = 0.0  # pressure coefficient"
   ]
  },
  {
   "cell_type": "markdown",
   "id": "788c4309-b221-4cc6-8b71-9d7610f09616",
   "metadata": {},
   "source": [
    "Discretize the airfoil geometry in N panels. The function will return a NumPy array of N objects of the type Panel."
   ]
  },
  {
   "cell_type": "code",
   "execution_count": 5,
   "id": "22d60181-1339-415d-a9bc-e75399d2d706",
   "metadata": {},
   "outputs": [],
   "source": [
    "def define_panels(x, y, N=40):\n",
    "    \"\"\"\n",
    "    Discretizes the geometry into panels using 'cosine' method.\n",
    "    \n",
    "    Parameters\n",
    "    ----------\n",
    "    x: 1D array of floats\n",
    "        x-coordinate of the points defining the geometry.\n",
    "    y: 1D array of floats\n",
    "        y-coordinate of the points defining the geometry.\n",
    "    N: integer, optional\n",
    "        Number of panels;\n",
    "        default: 40.\n",
    "    \n",
    "    Returns\n",
    "    -------\n",
    "    panels: 1D Numpy array of Panel objects.\n",
    "        The list of panels.\n",
    "    \"\"\"\n",
    "    \n",
    "    R = (x.max() - x.min()) / 2.0  # circle radius\n",
    "    x_center = (x.max() + x.min()) / 2.0  # x-coordinate of circle center\n",
    "    \n",
    "    theta = np.linspace(0.0, 2.0 * np.pi, N + 1)  # array of angles\n",
    "    x_circle = x_center + R * np.cos(theta)  # x-coordinates of circle\n",
    "    \n",
    "    x_ends = np.copy(x_circle)  # x-coordinate of panels end-points\n",
    "    y_ends = np.empty_like(x_ends)  # y-coordinate of panels end-points\n",
    "    \n",
    "    # extend coordinates to consider closed surface\n",
    "    x, y = np.append(x, x[0]), np.append(y, y[0])\n",
    "    \n",
    "    # compute y-coordinate of end-points by projection\n",
    "    I = 0\n",
    "    for i in range(N):\n",
    "        while I < len(x) - 1:\n",
    "            if (x[I] <= x_ends[i] <= x[I + 1]) or (x[I + 1] <= x_ends[i] <= x[I]):\n",
    "                break\n",
    "            else:\n",
    "                I += 1\n",
    "        a = (y[I + 1] - y[I]) / (x[I + 1] - x[I])\n",
    "        b = y[I + 1] - a * x[I + 1]\n",
    "        y_ends[i] = a * x_ends[i] + b\n",
    "    y_ends[N] = y_ends[0]\n",
    "    \n",
    "    # create panels\n",
    "    panels = np.empty(N, dtype=object)\n",
    "    for i in range(N):\n",
    "        panels[i] = Panel(x_ends[i], y_ends[i], x_ends[i + 1], y_ends[i + 1])\n",
    "    \n",
    "    return panels"
   ]
  },
  {
   "cell_type": "markdown",
   "id": "6f9f690a-a802-4d67-895a-fe017edfe45f",
   "metadata": {},
   "source": [
    "Now we can use our new function to define the geometry for the airfoil panels, and then plot the panel nodes on the geometry."
   ]
  },
  {
   "cell_type": "code",
   "execution_count": 6,
   "id": "597ef73f-be4a-4a8a-b82b-ccf1b0a322cc",
   "metadata": {},
   "outputs": [],
   "source": [
    "# discretize geoemetry into panels\n",
    "panels = define_panels(x, y, N=40)"
   ]
  },
  {
   "cell_type": "code",
   "execution_count": 7,
   "id": "229e5cc9-8ca8-4501-930f-ab973dd4c3e3",
   "metadata": {},
   "outputs": [
    {
     "data": {
      "text/plain": [
       "(-0.1, 0.1)"
      ]
     },
     "execution_count": 7,
     "metadata": {},
     "output_type": "execute_result"
    },
    {
     "data": {
      "image/png": "[encoded data removed]",
      "text/plain": [
       "<Figure size 1000x1000 with 1 Axes>"
      ]
     },
     "metadata": {},
     "output_type": "display_data"
    }
   ],
   "source": [
    "# plot discretized geometry\n",
    "width = 10\n",
    "plt.figure(figsize=(width, width))\n",
    "plt.grid()\n",
    "plt.xlabel('x', fontsize=16)\n",
    "plt.ylabel('y', fontsize=16)\n",
    "plt.plot(x, y, color='r', linestyle='-', linewidth=2)\n",
    "plt.plot(np.append([panel.xa for panel in panels], panels[0].xa),\n",
    "            np.append([panel.ya for panel in panels], panels[0].ya),\n",
    "            linestyle='-', linewidth=1, marker='o', markersize=6, c='b')\n",
    "plt.axis('scaled')\n",
    "plt.xlim(-0.1, 1.1)\n",
    "plt.ylim(-0.1, 0.1)"
   ]
  },
  {
   "cell_type": "markdown",
   "id": "a2de7c39-1078-4165-8ffc-0fde02549453",
   "metadata": {},
   "source": [
    "##### Free stream conditions\n",
    "\n",
    "The airfoil is immersed in a free-stream $(U_\\infty$,$\\alpha)$ where $U_\\infty$ and $\\alpha$ are the velocity magnitude and angle of attack, respectively."
   ]
  },
  {
   "cell_type": "code",
   "execution_count": 8,
   "id": "ab657185-4a56-4685-b8d6-6e007c7842b6",
   "metadata": {},
   "outputs": [],
   "source": [
    "class Freestream:\n",
    "    \"\"\"\n",
    "    Freestream conditions.\n",
    "    \"\"\"\n",
    "    def __init__(self, u_inf=1.0, alpha=0.0):\n",
    "        \"\"\"\n",
    "        Sets the freestream speed and angle (in degrees).\n",
    "        \n",
    "        Parameters\n",
    "        ----------\n",
    "        u_inf: float, optional\n",
    "            Freestream speed;\n",
    "            default: 1.0.\n",
    "        alpha: float, optional\n",
    "            Angle of attack in degrees;\n",
    "            default 0.0.\n",
    "        \"\"\"\n",
    "        self.u_inf = u_inf\n",
    "        self.alpha = np.radians(alpha)  # degrees to radians"
   ]
  },
  {
   "cell_type": "markdown",
   "id": "f3c937b4-4157-4c0f-9d73-92b0bc192634",
   "metadata": {},
   "source": [
    "We may manipulate freestream conditions to see the effect"
   ]
  },
  {
   "cell_type": "code",
   "execution_count": 9,
   "id": "03ed8ed1-25dd-4a39-8b67-138662d26250",
   "metadata": {},
   "outputs": [],
   "source": [
    "# define freestream conditions\n",
    "freestream = Freestream(u_inf=1.5, alpha=5.0)"
   ]
  },
  {
   "cell_type": "code",
   "execution_count": 10,
   "id": "473853e0-d105-4012-a547-cfb9f13317b6",
   "metadata": {},
   "outputs": [],
   "source": [
    "def integral(x, y, panel, dxdk, dydk):\n",
    "    \"\"\"\n",
    "    Evaluates the contribution from a panel at a given point.\n",
    "    \n",
    "    Parameters\n",
    "    ----------\n",
    "    x: float\n",
    "        x-coordinate of the target point.\n",
    "    y: float\n",
    "        y-coordinate of the target point.\n",
    "    panel: Panel object\n",
    "        Panel whose contribution is evaluated.\n",
    "    dxdk: float\n",
    "        Value of the derivative of x in a certain direction.\n",
    "    dydk: float\n",
    "        Value of the derivative of y in a certain direction.\n",
    "    \n",
    "    Returns\n",
    "    -------\n",
    "    Contribution from the panel at a given point (x, y).\n",
    "    \"\"\"\n",
    "    def integrand(s):\n",
    "        return (((x - (panel.xa - np.sin(panel.beta) * s)) * dxdk +\n",
    "                 (y - (panel.ya + np.cos(panel.beta) * s)) * dydk) /\n",
    "                ((x - (panel.xa - np.sin(panel.beta) * s))**2 +\n",
    "                 (y - (panel.ya + np.cos(panel.beta) * s))**2) )\n",
    "    options={'limit':100}\n",
    "    return integrate.quad(integrand, 0.0, panel.length, limit=180)[0]"
   ]
  },
  {
   "cell_type": "markdown",
   "id": "5c6cf101-9a2b-4151-9f27-c59b30fc67c1",
   "metadata": {},
   "source": [
    "We first define the function source_contribution_normal to build the source matrix, i.e. the weight from each source on the normal velocity of each panel:"
   ]
  },
  {
   "cell_type": "code",
   "execution_count": 11,
   "id": "28436c05-73c2-4d3f-a2de-001fd9ae199f",
   "metadata": {},
   "outputs": [],
   "source": [
    "def source_contribution_normal(panels):\n",
    "    \"\"\"\n",
    "    Builds the source contribution matrix for the normal velocity.\n",
    "    \n",
    "    Parameters\n",
    "    ----------\n",
    "    panels: 1D array of Panel objects\n",
    "        List of panels.\n",
    "    \n",
    "    Returns\n",
    "    -------\n",
    "    A: 2D Numpy array of floats\n",
    "        Source contribution matrix.\n",
    "    \"\"\"\n",
    "    A = np.empty((panels.size, panels.size), dtype=float)\n",
    "    # source contribution on a panel from itself\n",
    "    np.fill_diagonal(A, 0.5)\n",
    "    # source contribution on a panel from others\n",
    "    for i, panel_i in enumerate(panels):\n",
    "        for j, panel_j in enumerate(panels):\n",
    "            if i != j:\n",
    "                A[i, j] = 0.5 / np.pi * integral(panel_i.xc, panel_i.yc, \n",
    "                                                    panel_j,\n",
    "                                                    np.cos(panel_i.beta),\n",
    "                                                    np.sin(panel_i.beta))\n",
    "    return A"
   ]
  },
  {
   "cell_type": "markdown",
   "id": "f71bd523-d82d-4c15-9900-433d1da601ed",
   "metadata": {},
   "source": [
    "Then, we define vortex_contribution_normal to build the vortex matrix:"
   ]
  },
  {
   "cell_type": "code",
   "execution_count": 12,
   "id": "26381609-1246-4f7c-9a69-c6ce158f4dc2",
   "metadata": {},
   "outputs": [],
   "source": [
    "def vortex_contribution_normal(panels):\n",
    "    \"\"\"\n",
    "    Builds the vortex contribution matrix for the normal velocity.\n",
    "    \n",
    "    Parameters\n",
    "    ----------\n",
    "    panels: 1D array of Panel objects\n",
    "        List of panels.\n",
    "    \n",
    "    Returns\n",
    "    -------\n",
    "    A: 2D Numpy array of floats\n",
    "        Vortex contribution matrix.\n",
    "    \"\"\"\n",
    "    A = np.empty((panels.size, panels.size), dtype=float)\n",
    "    # vortex contribution on a panel from itself\n",
    "    np.fill_diagonal(A, 0.0)\n",
    "    # vortex contribution on a panel from others\n",
    "    for i, panel_i in enumerate(panels):\n",
    "        for j, panel_j in enumerate(panels):\n",
    "            if i != j:\n",
    "                A[i, j] = -0.5 / np.pi * integral(panel_i.xc, panel_i.yc, \n",
    "                                                     panel_j,\n",
    "                                                     np.sin(panel_i.beta),\n",
    "                                                     -np.cos(panel_i.beta))\n",
    "    return A"
   ]
  },
  {
   "cell_type": "markdown",
   "id": "49253fa8-f1cf-4de8-98c4-23e100f3ed20",
   "metadata": {},
   "source": [
    "Let's call both of these functions to create the source matrix A_source and the vortex matrix B_vortex:"
   ]
  },
  {
   "cell_type": "code",
   "execution_count": 13,
   "id": "87bf03c2-aa40-4bea-9466-2d95f093d62a",
   "metadata": {},
   "outputs": [],
   "source": [
    "A_source = source_contribution_normal(panels)\n",
    "B_vortex = vortex_contribution_normal(panels)"
   ]
  },
  {
   "cell_type": "markdown",
   "id": "8f69fa02-4796-49f9-8410-4e533410b848",
   "metadata": {},
   "source": [
    "We still have to include the Kutta condition in our system."
   ]
  },
  {
   "cell_type": "code",
   "execution_count": 14,
   "id": "1f30e921-7b74-4723-b5ff-327139b5dcad",
   "metadata": {},
   "outputs": [],
   "source": [
    "def kutta_condition(A_source, B_vortex):\n",
    "    \"\"\"\n",
    "    Builds the Kutta condition array.\n",
    "    \n",
    "    Parameters\n",
    "    ----------\n",
    "    A_source: 2D Numpy array of floats\n",
    "        Source contribution matrix for the normal velocity.\n",
    "    B_vortex: 2D Numpy array of floats\n",
    "        Vortex contribution matrix for the normal velocity.\n",
    "    \n",
    "    Returns\n",
    "    -------\n",
    "    b: 1D Numpy array of floats\n",
    "        The left-hand side of the Kutta-condition equation.\n",
    "    \"\"\"\n",
    "    b = np.empty(A_source.shape[0] + 1, dtype=float)\n",
    "    # matrix of source contribution on tangential velocity\n",
    "    # is the same than\n",
    "    # matrix of vortex contribution on normal velocity\n",
    "    b[:-1] = B_vortex[0, :] + B_vortex[-1, :]\n",
    "    # matrix of vortex contribution on tangential velocity\n",
    "    # is the opposite of\n",
    "    # matrix of source contribution on normal velocity\n",
    "    b[-1] = - np.sum(A_source[0, :] + A_source[-1, :])\n",
    "    return b"
   ]
  },
  {
   "cell_type": "markdown",
   "id": "e3eee73b-e1b9-48cc-88e4-a48b48cf660c",
   "metadata": {},
   "source": [
    "The function build_singularity_matrix will gather together the source matrix, the vortex array, and the Kutta array to build the matrix needed to solve the linear system."
   ]
  },
  {
   "cell_type": "code",
   "execution_count": 15,
   "id": "42588159-e6d1-4500-b5ee-0cb8a915540b",
   "metadata": {},
   "outputs": [],
   "source": [
    "def build_singularity_matrix(A_source, B_vortex):\n",
    "    \"\"\"\n",
    "    Builds the left-hand side matrix of the system\n",
    "    arising from source and vortex contributions.\n",
    "    \n",
    "    Parameters\n",
    "    ----------\n",
    "    A_source: 2D Numpy array of floats\n",
    "        Source contribution matrix for the normal velocity.\n",
    "    B_vortex: 2D Numpy array of floats\n",
    "        Vortex contribution matrix for the normal velocity.\n",
    "    \n",
    "    Returns\n",
    "    -------\n",
    "    A:  2D Numpy array of floats\n",
    "        Matrix of the linear system.\n",
    "    \"\"\"\n",
    "    A = np.empty((A_source.shape[0] + 1, A_source.shape[1] + 1), dtype=float)\n",
    "    # source contribution matrix\n",
    "    A[:-1, :-1] = A_source\n",
    "    # vortex contribution array\n",
    "    A[:-1, -1] = np.sum(B_vortex, axis=1)\n",
    "    # Kutta condition array\n",
    "    A[-1, :] = kutta_condition(A_source, B_vortex)\n",
    "    return A"
   ]
  },
  {
   "cell_type": "code",
   "execution_count": 16,
   "id": "cd57a220-775f-4e35-a855-38667c181573",
   "metadata": {},
   "outputs": [],
   "source": [
    "def build_freestream_rhs(panels, freestream):\n",
    "    \"\"\"\n",
    "    Builds the right-hand side of the system \n",
    "    arising from the freestream contribution.\n",
    "    \n",
    "    Parameters\n",
    "    ----------\n",
    "    panels: 1D array of Panel objects\n",
    "        List of panels.\n",
    "    freestream: Freestream object\n",
    "        Freestream conditions.\n",
    "    \n",
    "    Returns\n",
    "    -------\n",
    "    b: 1D Numpy array of floats\n",
    "        Freestream contribution on each panel and on the Kutta condition.\n",
    "    \"\"\"\n",
    "    b = np.empty(panels.size + 1, dtype=float)\n",
    "    # freestream contribution on each panel\n",
    "    for i, panel in enumerate(panels):\n",
    "        b[i] = -freestream.u_inf * np.cos(freestream.alpha - panel.beta)\n",
    "    # freestream contribution on the Kutta condition\n",
    "    b[-1] = -freestream.u_inf * (np.sin(freestream.alpha - panels[0].beta) +\n",
    "                                 np.sin(freestream.alpha - panels[-1].beta) )\n",
    "    return b"
   ]
  },
  {
   "cell_type": "code",
   "execution_count": 17,
   "id": "d056f4fd-56cc-4b59-9757-aa042196f35d",
   "metadata": {},
   "outputs": [],
   "source": [
    "A = build_singularity_matrix(A_source, B_vortex)\n",
    "b = build_freestream_rhs(panels, freestream)"
   ]
  },
  {
   "cell_type": "markdown",
   "id": "33bee896-607d-4977-9b01-6f75cb47c05d",
   "metadata": {},
   "source": [
    "To solve the linear system will use the Scipy function linalg.solve. Then we store the results in the attribute sigma of each Panel object. We also create a variable gamma to store the value of the constant vortex strength."
   ]
  },
  {
   "cell_type": "code",
   "execution_count": 18,
   "id": "c328d650-e6db-4e49-b8ac-2178ff0a7ff8",
   "metadata": {},
   "outputs": [],
   "source": [
    "# solve for singularity strengths\n",
    "strengths = np.linalg.solve(A, b)\n",
    "\n",
    "# store source strength on each panel\n",
    "for i , panel in enumerate(panels):\n",
    "    panel.sigma = strengths[i]\n",
    "    \n",
    "# store circulation density\n",
    "gamma = strengths[-1]"
   ]
  },
  {
   "cell_type": "markdown",
   "id": "80c7e579-251d-49d4-bd71-9995e5538507",
   "metadata": {},
   "source": [
    "##### Surface pressure coefficient\n",
    "\n",
    "The pressure coefficient at the $i$-th panel center is:\n",
    "\n",
    "$$C_{p_i} = 1 - \\left(\\frac{V_{t_i}}{U_\\infty}\\right)^2$$\n",
    "\n",
    "So, we have to compute the tangential velocity at each panel center using the function `compute_tangential_velocity`:"
   ]
  },
  {
   "cell_type": "code",
   "execution_count": 19,
   "id": "e4b440b1-2e0b-44bb-8328-6bc9f7c9acd0",
   "metadata": {},
   "outputs": [],
   "source": [
    "def compute_tangential_velocity(panels, freestream, gamma, A_source, B_vortex):\n",
    "    \"\"\"\n",
    "    Computes the tangential surface velocity.\n",
    "    \n",
    "    Parameters\n",
    "    ----------\n",
    "    panels: 1D array of Panel objects\n",
    "        List of panels.\n",
    "    freestream: Freestream object\n",
    "        Freestream conditions.\n",
    "    gamma: float\n",
    "        Circulation density.\n",
    "    A_source: 2D Numpy array of floats\n",
    "        Source contribution matrix for the normal velocity.\n",
    "    B_vortex: 2D Numpy array of floats\n",
    "        Vortex contribution matrix for the normal velocity.\n",
    "    \"\"\"\n",
    "    A = np.empty((panels.size, panels.size + 1), dtype=float)\n",
    "    # matrix of source contribution on tangential velocity\n",
    "    # is the same than\n",
    "    # matrix of vortex contribution on normal velocity\n",
    "    A[:, :-1] = B_vortex\n",
    "    # matrix of vortex contribution on tangential velocity\n",
    "    # is the opposite of\n",
    "    # matrix of source contribution on normal velocity\n",
    "    A[:, -1] = -np.sum(A_source, axis=1)\n",
    "    # freestream contribution\n",
    "    b = freestream.u_inf * np.sin([freestream.alpha - panel.beta \n",
    "                                      for panel in panels])\n",
    "    \n",
    "    strengths = np.append([panel.sigma for panel in panels], gamma)\n",
    "    \n",
    "    tangential_velocities = np.dot(A, strengths) + b\n",
    "    \n",
    "    for i, panel in enumerate(panels):\n",
    "        panel.vt = tangential_velocities[i]"
   ]
  },
  {
   "cell_type": "code",
   "execution_count": 20,
   "id": "6ccdfef5-8055-4348-8033-f6364ed7b920",
   "metadata": {},
   "outputs": [],
   "source": [
    "# tangential velocity at each panel center.\n",
    "compute_tangential_velocity(panels, freestream, gamma, A_source, B_vortex)"
   ]
  },
  {
   "cell_type": "markdown",
   "id": "8fcab4cd-0d72-4500-9a62-a463741bf5e4",
   "metadata": {},
   "source": [
    "And we define a function compute_pressure_coefficient to compute the surface pressure coefficient:"
   ]
  },
  {
   "cell_type": "code",
   "execution_count": 21,
   "id": "f9eb1945-3f9a-477b-9ae5-d57d3a5e71c4",
   "metadata": {},
   "outputs": [],
   "source": [
    "def compute_pressure_coefficient(panels, freestream):\n",
    "    \"\"\"\n",
    "    Computes the surface pressure coefficients.\n",
    "    \n",
    "    Parameters\n",
    "    ----------\n",
    "    panels: 1D array of Panel objects\n",
    "        List of panels.\n",
    "    freestream: Freestream object\n",
    "        Freestream conditions.\n",
    "    \"\"\"\n",
    "    for panel in panels:\n",
    "        panel.cp = 1.0 - (panel.vt / freestream.u_inf)**2"
   ]
  },
  {
   "cell_type": "code",
   "execution_count": 22,
   "id": "9e1b7b07-7575-4c88-8329-75bcda589d83",
   "metadata": {},
   "outputs": [],
   "source": [
    "# surface pressure coefficient\n",
    "compute_pressure_coefficient(panels, freestream)"
   ]
  },
  {
   "cell_type": "markdown",
   "id": "373ee451-98cb-46d1-b94a-ea5ea265d238",
   "metadata": {},
   "source": [
    "Plotting the pressure distribution $c_p$ through airfoil"
   ]
  },
  {
   "cell_type": "code",
   "execution_count": 23,
   "id": "a2542e74-4ef9-457e-b40a-980dbb23db40",
   "metadata": {},
   "outputs": [
    {
     "data": {
      "image/png": "[encoded data removed]",
      "text/plain": [
       "<Figure size 1000x600 with 1 Axes>"
      ]
     },
     "metadata": {},
     "output_type": "display_data"
    }
   ],
   "source": [
    "# plot surface pressure coefficient\n",
    "plt.figure(figsize=(10, 6))\n",
    "plt.grid()\n",
    "plt.xlabel('$x$', fontsize=16)\n",
    "plt.ylabel('$C_p$', fontsize=16)\n",
    "plt.plot([panel.xc for panel in panels if panel.loc == 'upper'],\n",
    "            [panel.cp for panel in panels if panel.loc == 'upper'],\n",
    "            label='upper surface',\n",
    "            color='r', linestyle='-', linewidth=2, marker='o', markersize=6)\n",
    "plt.plot([panel.xc for panel in panels if panel.loc == 'lower'],\n",
    "            [panel.cp for panel in panels if panel.loc == 'lower'],\n",
    "            label= 'lower surface',\n",
    "            color='b', linestyle='-', linewidth=1, marker='o', markersize=6)\n",
    "plt.legend(loc='best', prop={'size':16})\n",
    "plt.xlim(-0.1, 1.1)\n",
    "plt.ylim(1.5, -3.0)\n",
    "plt.title('Number of panels: {}'.format(panels.size), fontsize=16);"
   ]
  },
  {
   "cell_type": "markdown",
   "id": "f0f0fc0c-e45d-4741-bb6f-ddb2131bc5c1",
   "metadata": {},
   "source": [
    "##### Accuracy check\n",
    "First, let's compare it with XFOIL calculateted pressure coefficient distribution\n",
    "\n",
    "<img src=\"Image/CpxXfoil.png\" style=\"max-height:560px\" /> \n",
    "\n",
    "Doesn't look too bad, does it?\n",
    "\n",
    "We know that for a closed body, the sum of all the source strengths must be zero. If not, it means the body would be adding or absorbing mass from the flow! Therefore, we should have\n",
    "\n",
    "$$\\sum_{i=1}^{N} \\sigma_i l_i = 0$$\n",
    "\n",
    "where $l_i$ is the length of the $i^{\\text{th}}$ panel.\n",
    "\n",
    "With this, we can get a measure of the accuracy of the source panel method."
   ]
  },
  {
   "cell_type": "code",
   "execution_count": 24,
   "id": "77764070-9ecb-46e0-aa99-77c265d94ca7",
   "metadata": {},
   "outputs": [
    {
     "name": "stdout",
     "output_type": "stream",
     "text": [
      "sum of singularity strengths: 0.007255\n"
     ]
    }
   ],
   "source": [
    "# calculate the accuracy\n",
    "accuracy = sum([panel.sigma * panel.length for panel in panels])\n",
    "print('sum of singularity strengths: {:0.6f}'.format(accuracy))"
   ]
  },
  {
   "cell_type": "markdown",
   "id": "855c367f-1e5a-44f3-911c-73a07153f53d",
   "metadata": {},
   "source": [
    "Computing the lift coefficient $c_L$"
   ]
  },
  {
   "cell_type": "code",
   "execution_count": 25,
   "id": "814ca5b7-41b2-4004-862e-91ef1157afdb",
   "metadata": {},
   "outputs": [
    {
     "name": "stdout",
     "output_type": "stream",
     "text": [
      "lift coefficient: CL = 0.535\n"
     ]
    }
   ],
   "source": [
    "# compute the chord and lift coefficient\n",
    "c = abs(max(panel.xa for panel in panels) -\n",
    "        min(panel.xa for panel in panels))\n",
    "cl = (gamma * sum(panel.length for panel in panels) /\n",
    "      (0.5 * freestream.u_inf * c))\n",
    "print('lift coefficient: CL = {:0.3f}'.format(cl))"
   ]
  },
  {
   "cell_type": "markdown",
   "id": "21469ad8-5a16-442e-870e-c59d3bb79652",
   "metadata": {},
   "source": [
    "So, we have computed our lift coefficient $c_l$ for $\\alpha = 5^\\circ$, let's compare it with the one calculated by XFOIL. "
   ]
  },
  {
   "cell_type": "code",
   "execution_count": 26,
   "id": "92e50451-3bcf-4c70-832c-aa2337d6aef7",
   "metadata": {
    "tags": []
   },
   "outputs": [
    {
     "data": {
      "image/png": "[encoded data removed]",
      "text/plain": [
       "<Figure size 640x480 with 1 Axes>"
      ]
     },
     "metadata": {},
     "output_type": "display_data"
    }
   ],
   "source": [
    "# Read data from polar.txt\n",
    "data = np.genfromtxt('polar.txt', skip_header=12)\n",
    "\n",
    "# Extract data columns\n",
    "alpha = data[:, 0]\n",
    "cl_xfoil = data[:, 1]\n",
    "# Plot CL vs alpha\n",
    "plt.plot(alpha, cl_xfoil)\n",
    "plt.xlabel('Angle of Attack (degrees)')\n",
    "plt.ylabel('Coefficient of Lift')\n",
    "plt.title('CL vs Alpha')\n",
    "plt.xlim(0, 12)\n",
    "plt.ylim(-0.2, 1)\n",
    "\n",
    "plt.grid(True)\n",
    "plt.show()"
   ]
  },
  {
   "cell_type": "markdown",
   "id": "09127be2-04fd-4cc5-b8c8-ff69444901df",
   "metadata": {},
   "source": [
    "We see that there is small discrepancy introduced due to different characteristics of the freestream, especialy the Reynolds number."
   ]
  },
  {
   "cell_type": "markdown",
   "id": "305f6fdc-b3ca-4874-9019-c9f0e88d3647",
   "metadata": {},
   "source": [
    "Now, we can calculate lift, $S = 1$"
   ]
  },
  {
   "cell_type": "markdown",
   "id": "a90a8248-46a1-4236-a264-495cbb1aea9e",
   "metadata": {},
   "source": [
    "$$L = C_L q_{\\infty}S$$"
   ]
  },
  {
   "cell_type": "code",
   "execution_count": 27,
   "id": "aefcb17c-2960-48b8-a1d8-d97d08a9913d",
   "metadata": {},
   "outputs": [
    {
     "name": "stdout",
     "output_type": "stream",
     "text": [
      "The lift of a wing section with S = 1 is :0.80\n"
     ]
    }
   ],
   "source": [
    "L = cl * freestream.u_inf\n",
    "print(f'The lift of a wing section with S = 1 is :{L:.2f}')"
   ]
  },
  {
   "cell_type": "markdown",
   "id": "f2f69d84-12e7-49f1-8fbc-0bc1eb69b500",
   "metadata": {},
   "source": [
    "##### Streamlines onto a mesh grid"
   ]
  },
  {
   "cell_type": "markdown",
   "id": "ec6618d4-9570-4fc5-ab28-b661dfd0c67a",
   "metadata": {},
   "source": [
    "To get a streamline plot, we have to create a mesh and compute the velocity field onto it. Knowing the strength of every panel, we find the $x$-component of the velocity by taking derivative of the velocity potential in the $x$-direction, and the $y$-component by taking derivative in the $y$-direction:\n",
    "\n",
    "$$\n",
    "u\\left(x,y\\right) = \\frac{\\partial}{\\partial x}\\left\\lbrace \\phi\\left(x,y\\right) \\right\\rbrace\n",
    "$$\n",
    "\n",
    "$$\n",
    "v\\left(x,y\\right) = \\frac{\\partial}{\\partial y}\\left\\lbrace \\phi\\left(x,y\\right) \\right\\rbrace\n",
    "$$\n",
    "\n",
    "Notice that here we call the function `integral()` with $1,0$ as the final arguments when calculating the derivatives in the $x$-direction, and $0,1$ for the derivatives in th $y$-direction."
   ]
  },
  {
   "cell_type": "code",
   "execution_count": 87,
   "id": "a2b6a765-c565-48d9-a3df-88fda128f361",
   "metadata": {},
   "outputs": [],
   "source": [
    "def get_velocity_field(panels, freestream, X, Y):\n",
    "    \"\"\"\n",
    "    Computes the velocity field on a given 2D mesh.\n",
    "    \n",
    "    Parameters\n",
    "    ---------\n",
    "    panels: 1D array of Panel objects\n",
    "        The source panels.\n",
    "    freestream: Freestream object\n",
    "        The freestream conditions.\n",
    "    X: 2D Numpy array of floats\n",
    "        x-coordinates of the mesh points.\n",
    "    Y: 2D Numpy array of floats\n",
    "        y-coordinate of the mesh points.\n",
    "    \n",
    "    Returns\n",
    "    -------\n",
    "    u: 2D Numpy array of floats\n",
    "        x-component of the velocity vector field.\n",
    "    v: 2D Numpy array of floats\n",
    "        y-component of the velocity vector field.\n",
    "    \"\"\"\n",
    "    # freestream contribution\n",
    "    u = freestream.u_inf * math.cos(freestream.alpha) * np.ones_like(X, dtype=float)\n",
    "    v = freestream.u_inf * math.sin(freestream.alpha) * np.ones_like(X, dtype=float)\n",
    "    # add the contribution from each source (superposition powers!!!)\n",
    "    vec_intregral = np.vectorize(integral)\n",
    "    for panel in panels:\n",
    "        u += panel.sigma / (2.0 * math.pi) * vec_intregral(X, Y, panel, 1.0, 0.0)\n",
    "        v += panel.sigma / (2.0 * math.pi) * vec_intregral(X, Y, panel, 0.0, 1.0)\n",
    "    \n",
    "    return u, v"
   ]
  },
  {
   "cell_type": "code",
   "execution_count": 88,
   "id": "00027a61-9289-422e-bae0-e77601968c12",
   "metadata": {},
   "outputs": [],
   "source": [
    "# define a mesh grid\n",
    "nx, ny = 20, 20  # number of points in the x and y directions\n",
    "x_start, x_end = -1.0, 2.0\n",
    "y_start, y_end = -0.3, 0.3\n",
    "X, Y = np.meshgrid(np.linspace(x_start, x_end, nx),\n",
    "                      np.linspace(y_start, y_end, ny))\n",
    "\n",
    "# compute the velocity field on the mesh grid\n",
    "u, v = get_velocity_field(panels, freestream, X, Y)"
   ]
  },
  {
   "cell_type": "code",
   "execution_count": 113,
   "id": "22bd3471-cdd6-4d63-b090-ea67ea260b78",
   "metadata": {},
   "outputs": [
    {
     "ename": "SyntaxError",
     "evalue": "invalid syntax (4191653620.py, line 28)",
     "output_type": "error",
     "traceback": [
      "\u001b[1;36m  Cell \u001b[1;32mIn[113], line 28\u001b[1;36m\u001b[0m\n\u001b[1;33m    plt.fill([panel.xc for panel in panels],\u001b[0m\n\u001b[1;37m    ^\u001b[0m\n\u001b[1;31mSyntaxError\u001b[0m\u001b[1;31m:\u001b[0m invalid syntax\n"
     ]
    }
   ],
   "source": [
    "# plot the velocity field\n",
    "width = 10\n",
    "plt.figure(figsize=(width, width))\n",
    "plt.xlabel('x', fontsize=16)\n",
    "plt.ylabel('y', fontsize=16)\n",
    "# plt.streamplot(X, Y, u, v,\n",
    "#                   density=1, linewidth=1, arrowsize=1, arrowstyle='->')\n",
    "plt.contourf(X, Y, cp,\n",
    "                        levels=np.linspace(-2.0, 0.8, 30), extend='both')\n",
    "\n",
    "#plt.quiver(X, Y, u, v, angles='uv', scale_units='xy', scale=40, color = \"b\")\n",
    "plt.quiver(X, Y, u, v, angles='uv', scale=.6,\n",
    "                       arrow_scale=.5,\n",
    "                       name='quiver',\n",
    "                       line_width=2, line_color='black'\n",
    "\n",
    "# contf = plt.contourf(X, Y, cp,\n",
    "#                         levels=np.linspace(-1.5, 1.0, 100), extend='both')\n",
    "# cbar = plt.colorbar(contf,\n",
    "#                        orientation='horizontal',\n",
    "#                        shrink=0.5, pad = 0.1,\n",
    "#                        ticks=[-2.0, -1.0, 0.0, 1.0])\n",
    "# cbar.set_label('$C_p$', fontsize=16)\n",
    "\n",
    "\n",
    "\n",
    "\n",
    "plt.fill([panel.xc for panel in panels],\n",
    "            [panel.yc for panel in panels],\n",
    "            color='k', linestyle='solid', linewidth=2, zorder=2)\n",
    "plt.axis('scaled')\n",
    "plt.xlim(x_start, x_end)\n",
    "plt.ylim(y_start, y_end)\n",
    "plt.title('Streamlines around a NACA 0012 airfoil (AoA = ${}^o$)'.format(np.rad2deg(freestream.alpha)),\n",
    "             fontsize=16);\n"
   ]
  },
  {
   "cell_type": "markdown",
   "id": "55cc9fa4-ebd8-4995-b765-08037a96457d",
   "metadata": {},
   "source": [
    " For an airfoil, we are interested to see how the pressure looks all around it, and we make a contour plot in the flow domain."
   ]
  },
  {
   "cell_type": "code",
   "execution_count": 90,
   "id": "f8370dca-14ec-4645-a3ca-d2b91fc5fd8c",
   "metadata": {},
   "outputs": [
    {
     "data": {
      "image/png": "[encoded data removed]",
      "text/plain": [
       "<Figure size 1000x1000 with 2 Axes>"
      ]
     },
     "metadata": {},
     "output_type": "display_data"
    }
   ],
   "source": [
    "# compute the pressure field\n",
    "cp = 1.0 - (u**2 + v**2) / freestream.u_inf**2\n",
    "\n",
    "# plot the pressure field\n",
    "width = 10\n",
    "plt.figure(figsize=(width, width))\n",
    "plt.xlabel('x', fontsize=16)\n",
    "plt.ylabel('y', fontsize=16)\n",
    "contf = plt.contourf(X, Y, cp,\n",
    "                        levels=np.linspace(-2.0, 1.0, 100), extend='both')\n",
    "cbar = plt.colorbar(contf,\n",
    "                       orientation='horizontal',\n",
    "                       shrink=0.5, pad = 0.1,\n",
    "                       ticks=[-2.0, -1.0, 0.0, 1.0])\n",
    "cbar.set_label('$C_p$', fontsize=16)\n",
    "plt.fill([panel.xc for panel in panels],\n",
    "            [panel.yc for panel in panels],\n",
    "            color='k', linestyle='solid', linewidth=2, zorder=2)\n",
    "plt.axis('scaled')\n",
    "plt.xlim(x_start, x_end)\n",
    "plt.ylim(y_start, y_end)\n",
    "plt.title('Contour of pressure field', fontsize=16);\n"
   ]
  },
  {
   "cell_type": "code",
   "execution_count": 33,
   "id": "f274ef85-5328-4df6-b824-4651533ede0b",
   "metadata": {},
   "outputs": [
    {
     "data": {
      "image/png": "[encoded data removed]",
      "text/plain": [
       "<Figure size 1000x1000 with 2 Axes>"
      ]
     },
     "metadata": {},
     "output_type": "display_data"
    }
   ],
   "source": [
    "import numpy as np\n",
    "import matplotlib.pyplot as plt\n",
    "\n",
    "# Plot velocity field using quiver\n",
    "plt.figure(figsize=(width, width))\n",
    "plt.xlabel('x', fontsize=16)\n",
    "plt.ylabel('y', fontsize=16)\n",
    "plt.quiver(X, Y, u, v, scale=20, color='blue', alpha=0.6)\n",
    "#plt.fill([panel.xc for panel in panels], [panel.yc for panel in panels], color='k', linestyle='solid', linewidth=2, zorder=2)\n",
    "plt.axis('scaled')\n",
    "plt.xlim(x_start, x_end)\n",
    "plt.ylim(y_start, y_end)\n",
    "plt.title('Streamlines and velocity field', fontsize=16)\n",
    "\n",
    "# Compute the pressure field\n",
    "cp = 1.0 - (u**2 + v**2) / freestream.u_inf**2\n",
    "\n",
    "# Plot pressure field as contours\n",
    "contf = plt.contourf(X, Y, cp, levels=np.linspace(-2.0, 1.0, 100), extend='both')\n",
    "cbar = plt.colorbar(contf, orientation='horizontal', shrink=0.5, pad=0.1, ticks=[-2.0, -1.0, 0.0, 1.0])\n",
    "cbar.set_label('$C_p$', fontsize=16)\n",
    "\n",
    "plt.show()\n"
   ]
  },
  {
   "cell_type": "markdown",
   "id": "b91302a3-1374-42ad-89fb-1153f5522616",
   "metadata": {},
   "source": [
    "# To do\n",
    "Add final thoughts\n",
    "Reformat and "
   ]
  }
 ],
 "metadata": {
  "kernelspec": {
   "display_name": "Python [conda env:root] *",
   "language": "python",
   "name": "conda-root-py"
  },
  "language_info": {
   "codemirror_mode": {
    "name": "ipython",
    "version": 3
   },
   "file_extension": ".py",
   "mimetype": "text/x-python",
   "name": "python",
   "nbconvert_exporter": "python",
   "pygments_lexer": "ipython3",
   "version": "3.9.13"
  }
 },
 "nbformat": 4,
 "nbformat_minor": 5
}
